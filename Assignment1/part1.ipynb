{
 "cells": [
  {
   "cell_type": "code",
   "execution_count": 2,
   "id": "02698124",
   "metadata": {},
   "outputs": [],
   "source": [
    "from sklearn.datasets import load_digits\n",
    "from sklearn.linear_model import LogisticRegression\n",
    "from sklearn.metrics import accuracy_score\n",
    "from sklearn.model_selection import train_test_split\n",
    "from sklearn.base import clone\n",
    "from sklearn.preprocessing import StandardScaler\n",
    "from itertools import combinations\n",
    "\n",
    "import numpy as np\n",
    "import matplotlib.pyplot as plt\n",
    "import random\n",
    "\n",
    "# load the dataset\n",
    "X, y = load_digits(return_X_y=True)\n",
    "\n",
    "# get logistic regression model\n",
    "model = LogisticRegression()\n",
    "\n",
    "# instantiate a StandardScaler object\n",
    "scaler = StandardScaler()"
   ]
  },
  {
   "cell_type": "markdown",
   "id": "0246a239",
   "metadata": {},
   "source": [
    "Preliminary data analysis:"
   ]
  },
  {
   "cell_type": "code",
   "execution_count": 3,
   "id": "0bc51a42",
   "metadata": {},
   "outputs": [
    {
     "name": "stdout",
     "output_type": "stream",
     "text": [
      "Dataset shape: (1797, 64)\n",
      "Number of samples: 1797\n",
      "Number of features: 64\n",
      "Feature value range: 0.0 to 16.0\n",
      "Classes: {0, 1, 2, 3, 4, 5, 6, 7, 8, 9}\n",
      "Scale of the dataset: 4.884164579855314\n",
      "Variance of the dataset: 36.20173240585726\n"
     ]
    }
   ],
   "source": [
    "print(f\"Dataset shape: {X.shape}\")\n",
    "\n",
    "n_samples, n_features = X.shape\n",
    "print(f\"Number of samples: {n_samples}\")\n",
    "print(f\"Number of features: {n_features}\")\n",
    "\n",
    "print(f\"Feature value range: {np.min(X)} to {np.max(X)}\")\n",
    "\n",
    "classes = set(y)\n",
    "print(f\"Classes: {classes}\")\n",
    "\n",
    "print(f\"Scale of the dataset: {np.mean(X)}\")\n",
    "\n",
    "print(f\"Variance of the dataset: {np.var(X)}\")"
   ]
  },
  {
   "cell_type": "markdown",
   "id": "df7910c5",
   "metadata": {},
   "source": [
    "Evaluating the accuracy of different train-test ratios:"
   ]
  },
  {
   "cell_type": "code",
   "execution_count": 4,
   "id": "b6daa9df",
   "metadata": {
    "scrolled": true
   },
   "outputs": [
    {
     "name": "stderr",
     "output_type": "stream",
     "text": [
      "C:\\Users\\nivyo\\anaconda3\\lib\\site-packages\\sklearn\\linear_model\\_logistic.py:458: ConvergenceWarning: lbfgs failed to converge (status=1):\n",
      "STOP: TOTAL NO. of ITERATIONS REACHED LIMIT.\n",
      "\n",
      "Increase the number of iterations (max_iter) or scale the data as shown in:\n",
      "    https://scikit-learn.org/stable/modules/preprocessing.html\n",
      "Please also refer to the documentation for alternative solver options:\n",
      "    https://scikit-learn.org/stable/modules/linear_model.html#logistic-regression\n",
      "  n_iter_i = _check_optimize_result(\n"
     ]
    },
    {
     "data": {
      "image/png": "[encoded data removed]",
      "text/plain": [
       "<Figure size 640x480 with 1 Axes>"
      ]
     },
     "metadata": {},
     "output_type": "display_data"
    }
   ],
   "source": [
    "ratios = np.arange(start=0.1, stop=1, step=0.1)\n",
    "accs = []\n",
    "\n",
    "# scale the features in your data using the fit_transform() method\n",
    "X_scaled = scaler.fit_transform(X)\n",
    "\n",
    "for ratio in ratios:\n",
    "    # split data into tarin and test\n",
    "    X_train, X_test, y_train, y_test = train_test_split(X_scaled, y, test_size=ratio)\n",
    "    \n",
    "    # clone and train\n",
    "    cloned_model = clone(model)\n",
    "    cloned_model.fit(X_train, y_train)\n",
    "    \n",
    "    acc = accuracy_score(y_test, cloned_model.predict(X_test))\n",
    "    accs.append(acc)\n",
    "    # print(acc)\n",
    "\n",
    "# plot the accuracy of each r using pyplot\n",
    "plt.plot(ratios, accs)\n",
    "\n",
    "# set the labels for the x and y axes and the title of the plot\n",
    "plt.xlabel('r')\n",
    "plt.ylabel('Accuracy')\n",
    "plt.title('Accuracy vs. r')\n",
    "\n",
    "# display the plot\n",
    "plt.show()\n"
   ]
  },
  {
   "cell_type": "markdown",
   "id": "0a602f69",
   "metadata": {},
   "source": [
    "Creating an unbalanced subset of the dataset:"
   ]
  },
  {
   "cell_type": "code",
   "execution_count": 5,
   "id": "a80c1716",
   "metadata": {
    "scrolled": true
   },
   "outputs": [
    {
     "name": "stdout",
     "output_type": "stream",
     "text": [
      "y frequencies: {0: 101, 1: 104, 2: 100, 3: 99, 4: 99, 5: 103, 6: 92, 7: 97, 8: 108, 9: 97}\n",
      "y min frequency: 92\n"
     ]
    }
   ],
   "source": [
    "# sample 1000 indexes\n",
    "X_indexes = range(X.shape[0])\n",
    "unbalanced_indexes = random.sample(X_indexes, 1000)\n",
    "\n",
    "X_unbalanced = X[unbalanced_indexes]\n",
    "y_unbalanced = y[unbalanced_indexes]\n",
    "\n",
    "\n",
    "# get frequencies\n",
    "y_frequencies = {d:0 for d in classes}\n",
    "\n",
    "for i in y_unbalanced:\n",
    "    y_frequencies[i] += 1\n",
    "    \n",
    "y_min_frequency = min(y_frequencies.values())\n",
    "\n",
    "print(f\"y frequencies: {y_frequencies}\")\n",
    "print(f\"y min frequency: {y_min_frequency}\")\n",
    "    "
   ]
  },
  {
   "cell_type": "markdown",
   "id": "03079950",
   "metadata": {},
   "source": [
    "Creating a balanced subset of the unbalanced dataset:"
   ]
  },
  {
   "cell_type": "code",
   "execution_count": 6,
   "id": "43080112",
   "metadata": {
    "scrolled": true
   },
   "outputs": [
    {
     "name": "stdout",
     "output_type": "stream",
     "text": [
      "y_balanced frequencies: {0: 92, 1: 92, 2: 92, 3: 92, 4: 92, 5: 92, 6: 92, 7: 92, 8: 92, 9: 92}\n"
     ]
    }
   ],
   "source": [
    "X_balanced = np.empty((0, X_unbalanced.shape[1]))\n",
    "y_balanced = np.empty(0)\n",
    "\n",
    "for d in classes:\n",
    "    # find the rows in X_unbalanced that correspond to the digit d ({0, 1, ..., 9})\n",
    "    X_d = X_unbalanced[y_unbalanced == d]\n",
    "    \n",
    "    # randomly sample y_min_frequency data points from X_d\n",
    "    indexes = random.sample(range(X_d.shape[0]), y_min_frequency)\n",
    "    X_batch = X_d[indexes]\n",
    "    \n",
    "    y_batch = np.full((y_min_frequency, ), d)\n",
    "    \n",
    "    X_balanced = np.vstack((X_balanced, X_batch))\n",
    "    y_balanced = np.append(y_balanced, y_batch)\n",
    "    \n",
    "# check that the new dataset is balanced\n",
    "y_frequencies = {d:0 for d in classes}\n",
    "\n",
    "for i in y_balanced:\n",
    "    y_frequencies[i] += 1\n",
    "    \n",
    "print(f\"y_balanced frequencies: {y_frequencies}\")"
   ]
  },
  {
   "cell_type": "markdown",
   "id": "30f2ad81",
   "metadata": {},
   "source": [
    "Evaluating the accuracy of different train-test ratios on the balanced subset:"
   ]
  },
  {
   "cell_type": "code",
   "execution_count": 7,
   "id": "fb6a20d5",
   "metadata": {
    "scrolled": true
   },
   "outputs": [
    {
     "name": "stdout",
     "output_type": "stream",
     "text": [
      "0.967391304347826\n",
      "0.9728260869565217\n",
      "0.9675090252707581\n",
      "0.970108695652174\n",
      "0.9456521739130435\n",
      "0.9565217391304348\n",
      "0.931782945736434\n",
      "0.9211956521739131\n",
      "0.8743961352657005\n"
     ]
    },
    {
     "data": {
      "image/png": "[encoded data removed]",
      "text/plain": [
       "<Figure size 640x480 with 1 Axes>"
      ]
     },
     "metadata": {},
     "output_type": "display_data"
    }
   ],
   "source": [
    "# scale the features in your data using the fit_transform() method\n",
    "X_scaled = scaler.fit_transform(X_balanced)\n",
    "\n",
    "# clear accs\n",
    "accs = []\n",
    "\n",
    "for ratio in ratios:\n",
    "    # split data into tarin and test\n",
    "    X_train, X_test, y_train, y_test = train_test_split(X_scaled, y_balanced, test_size=ratio)\n",
    "    \n",
    "    # clone and train    cloned_model = clone(model)\n",
    "    cloned_model.fit(X_train, y_train)\n",
    "    \n",
    "    acc = accuracy_score(y_test, cloned_model.predict(X_test))\n",
    "    accs.append(acc)\n",
    "    print(acc)\n",
    "    \n",
    "# plot the accuracy of each r using pyplot\n",
    "plt.plot(ratios, accs)\n",
    "\n",
    "# set the labels for the x and y axes and the title of the plot\n",
    "plt.xlabel('r')\n",
    "plt.ylabel('Accuracy')\n",
    "plt.title('Accuracy vs. r')\n",
    "\n",
    "# display the plot\n",
    "plt.show()"
   ]
  },
  {
   "cell_type": "markdown",
   "id": "bbf1502d",
   "metadata": {},
   "source": [
    "naive k-features selection algorithm"
   ]
  },
  {
   "cell_type": "code",
   "execution_count": 8,
   "id": "a45e5be0",
   "metadata": {},
   "outputs": [
    {
     "name": "stdout",
     "output_type": "stream",
     "text": [
      "Best features:  (21, 42)\n",
      "Accuracy:  0.4488888888888889\n"
     ]
    }
   ],
   "source": [
    "def k_features_selection(X_train, X_test, y_train, y_test, k):\n",
    "\n",
    "    # get all possible combinations of k features\n",
    "    feature_combinations = combinations(range(X_train.shape[1]), k)\n",
    "    \n",
    "    best_accuracy = 0.0\n",
    "    best_features = None\n",
    "    \n",
    "    for features in feature_combinations:\n",
    "        \n",
    "        # clone and train a logistic regression classifier using the current feature set\n",
    "        cloned_model = clone(model)\n",
    "        cloned_model.fit(X_train[:, list(features)], y_train)\n",
    "        \n",
    "        # make predictions on the test set and calculate the accuracy\n",
    "        y_pred = cloned_model.predict(X_test[:, list(features)])\n",
    "        accuracy = accuracy_score(y_test, y_pred)\n",
    "        \n",
    "        # update the best feature set and accuracy if the current feature set performs better\n",
    "        if accuracy > best_accuracy:\n",
    "            best_accuracy = accuracy\n",
    "            best_features = features\n",
    "    \n",
    "    return best_features, best_accuracy\n",
    "\n",
    "\n",
    "# scale the features in your data using the fit_transform() method\n",
    "X_scaled = scaler.fit_transform(X)\n",
    "\n",
    "# split data into tarin and test 20% test, 80% train\n",
    "X_train, X_test, y_train, y_test = train_test_split(X_scaled, y)\n",
    "\n",
    "best_features, best_accuracy = k_features_selection(X_train, X_test, y_train, y_test, 2)\n",
    "print(\"Best features: \", best_features)\n",
    "print(\"Accuracy: \", best_accuracy)\n",
    "\n",
    "\n",
    "        "
   ]
  },
  {
   "cell_type": "code",
   "execution_count": null,
   "id": "9b91fefd",
   "metadata": {},
   "outputs": [],
   "source": []
  }
 ],
 "metadata": {
  "kernelspec": {
   "display_name": "Python 3 (ipykernel)",
   "language": "python",
   "name": "python3"
  },
  "language_info": {
   "codemirror_mode": {
    "name": "ipython",
    "version": 3
   },
   "file_extension": ".py",
   "mimetype": "text/x-python",
   "name": "python",
   "nbconvert_exporter": "python",
   "pygments_lexer": "ipython3",
   "version": "3.10.9"
  }
 },
 "nbformat": 4,
 "nbformat_minor": 5
}
