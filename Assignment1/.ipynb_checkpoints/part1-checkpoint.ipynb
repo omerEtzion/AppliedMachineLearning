{
 "cells": [
  {
   "cell_type": "code",
   "execution_count": 7,
   "id": "02698124",
   "metadata": {},
   "outputs": [],
   "source": [
    "from sklearn.datasets import load_digits\n",
    "from sklearn.linear_model import LogisticRegression\n",
    "from sklearn.metrics import accuracy_score\n",
    "from sklearn.model_selection import train_test_split\n",
    "from sklearn.base import clone\n",
    "from sklearn.preprocessing import StandardScaler\n",
    "import numpy as np\n",
    "import matplotlib.pyplot as plt\n",
    "import random\n",
    "\n",
    "# load the dataset\n",
    "X, y = load_digits(return_X_y=True)\n"
   ]
  },
  {
   "cell_type": "markdown",
   "id": "92be1cd7",
   "metadata": {},
   "source": [
    "Preliminary data analysis:"
   ]
  },
  {
   "cell_type": "code",
   "execution_count": 8,
   "id": "0bc51a42",
   "metadata": {},
   "outputs": [
    {
     "name": "stdout",
     "output_type": "stream",
     "text": [
      "Dataset shape: (1797, 64)\n",
      "Number of samples: 1797\n",
      "Number of features: 64\n",
      "Feature value range: 0.0 to 16.0\n",
      "Classes: {0, 1, 2, 3, 4, 5, 6, 7, 8, 9}\n",
      "Scale of the dataset: 4.884164579855314\n",
      "Variance of the dataset: 36.20173240585726\n"
     ]
    }
   ],
   "source": [
    "print(f\"Dataset shape: {X.shape}\")\n",
    "\n",
    "n_samples, n_features = X.shape\n",
    "print(f\"Number of samples: {n_samples}\")\n",
    "print(f\"Number of features: {n_features}\")\n",
    "\n",
    "print(f\"Feature value range: {np.min(X)} to {np.max(X)}\")\n",
    "\n",
    "classes = set(y)\n",
    "print(f\"Classes: {classes}\")\n",
    "\n",
    "print(f\"Scale of the dataset: {np.mean(X)}\")\n",
    "\n",
    "print(f\"Variance of the dataset: {np.var(X)}\")"
   ]
  },
  {
   "cell_type": "markdown",
   "id": "df7910c5",
   "metadata": {},
   "source": [
    "Evaluating the accuracy of different train-test ratios:"
   ]
  },
  {
   "cell_type": "code",
   "execution_count": 9,
   "id": "b6daa9df",
   "metadata": {
    "scrolled": true
   },
   "outputs": [
    {
     "data": {
      "image/png": "[encoded data removed]",
      "text/plain": [
       "<Figure size 640x480 with 1 Axes>"
      ]
     },
     "metadata": {},
     "output_type": "display_data"
    }
   ],
   "source": [
    "model = LogisticRegression()\n",
    "\n",
    "ratios = np.arange(start=0.1, stop=1, step=0.1)\n",
    "accs = []\n",
    "\n",
    "# Instantiate a StandardScaler object\n",
    "scaler = StandardScaler()\n",
    "\n",
    "# Scale the features in your data using the fit_transform() method\n",
    "X_scaled = scaler.fit_transform(X)\n",
    "\n",
    "for ratio in ratios:\n",
    "    X_train, X_test, y_train, y_test = train_test_split(X_scaled, y, test_size=ratio)\n",
    "    cloned_model = clone(model)\n",
    "    cloned_model.fit(X_train, y_train)\n",
    "    acc = accuracy_score(y_test, cloned_model.predict(X_test))\n",
    "    accs.append(acc)\n",
    "#     print(acc)\n",
    "\n",
    "# Plot the accuracy of each r using pyplot\n",
    "plt.plot(ratios, accs)\n",
    "\n",
    "# Set the labels for the x and y axes and the title of the plot\n",
    "plt.xlabel('r')\n",
    "plt.ylabel('Accuracy')\n",
    "plt.title('Accuracy vs. r')\n",
    "\n",
    "# Display the plot\n",
    "plt.show()\n"
   ]
  },
  {
   "cell_type": "markdown",
   "id": "0a602f69",
   "metadata": {},
   "source": [
    "Creating an unbalanced subset of the dataset:"
   ]
  },
  {
   "cell_type": "code",
   "execution_count": 10,
   "id": "a80c1716",
   "metadata": {
    "scrolled": true
   },
   "outputs": [
    {
     "name": "stdout",
     "output_type": "stream",
     "text": [
      "y frequencies: {0: 99, 1: 96, 2: 109, 3: 99, 4: 93, 5: 102, 6: 106, 7: 96, 8: 96, 9: 104}\n",
      "y min frequency: 93\n"
     ]
    }
   ],
   "source": [
    "X_indexes = range(X.shape[0])\n",
    "unbalanced_indexes = random.sample(X_indexes, 1000)\n",
    "\n",
    "X_unbalanced = X[unbalanced_indexes]\n",
    "y_unbalanced = y[unbalanced_indexes]\n",
    "\n",
    "y_frequencies = {d:0 for d in classes}\n",
    "\n",
    "for i in y_unbalanced:\n",
    "    y_frequencies[i] += 1\n",
    "    \n",
    "y_min_frequency = min(y_frequencies.values())\n",
    "\n",
    "print(f\"y frequencies: {y_frequencies}\")\n",
    "print(f\"y min frequency: {y_min_frequency}\")\n",
    "    "
   ]
  },
  {
   "cell_type": "markdown",
   "id": "03079950",
   "metadata": {},
   "source": [
    "Creating a balanced subset of the unbalanced dataset:"
   ]
  },
  {
   "cell_type": "code",
   "execution_count": 13,
   "id": "43080112",
   "metadata": {
    "scrolled": true
   },
   "outputs": [
    {
     "name": "stdout",
     "output_type": "stream",
     "text": [
      "y_balanced frequencies: {0: 93, 1: 93, 2: 93, 3: 93, 4: 93, 5: 93, 6: 93, 7: 93, 8: 93, 9: 93}\n"
     ]
    }
   ],
   "source": [
    "X_balanced = np.empty((0, X_unbalanced.shape[1]))\n",
    "y_balanced = np.empty(0)\n",
    "\n",
    "for d in classes:\n",
    "    # find the rows in X_unbalanced that correspond to the digit d ({0, 1, ..., 9})\n",
    "    X_d = X_unbalanced[y_unbalanced == d]\n",
    "    \n",
    "    # randomly sample y_min_frequency data points from X_d\n",
    "    indexes = random.sample(range(X_d.shape[0]), y_min_frequency)\n",
    "    X_batch = X_d[indexes]\n",
    "    \n",
    "    y_batch = np.full((y_min_frequency, ), d)\n",
    "    \n",
    "    X_balanced = np.vstack((X_balanced, X_batch))\n",
    "    y_balanced = np.append(y_balanced, y_batch)\n",
    "    \n",
    "# check that the new dataset is balanced\n",
    "\n",
    "y_frequencies = {d:0 for d in classes}\n",
    "\n",
    "for i in y_balanced:\n",
    "    y_frequencies[i] += 1\n",
    "    \n",
    "print(f\"y_balanced frequencies: {y_frequencies}\")"
   ]
  },
  {
   "cell_type": "markdown",
   "id": "30f2ad81",
   "metadata": {},
   "source": [
    "Evaluating the accuracy of different train-test ratios on the balanced subset:"
   ]
  },
  {
   "cell_type": "code",
   "execution_count": null,
   "id": "fb6a20d5",
   "metadata": {
    "scrolled": true
   },
   "outputs": [],
   "source": [
    "# Instantiate a StandardScaler object\n",
    "scaler = StandardScaler()\n",
    "\n",
    "# Scale the features in your data using the fit_transform() method\n",
    "X_scaled = scaler.fit_transform(X_balanced)\n",
    "\n",
    "# clear accs\n",
    "accs = []\n",
    "\n",
    "for ratio in ratios:\n",
    "    X_train, X_test, y_train, y_test = train_test_split(X_scaled, y_balanced, test_size=ratio)\n",
    "    cloned_model = clone(model)\n",
    "    cloned_model.fit(X_train, y_train)\n",
    "    acc = accuracy_score(y_test, cloned_model.predict(X_test))\n",
    "    accs.append(acc)\n",
    "    print(acc)\n",
    "    \n",
    "# Plot the accuracy of each r using pyplot\n",
    "plt.plot(ratios, accs)\n",
    "\n",
    "# Set the labels for the x and y axes and the title of the plot\n",
    "plt.xlabel('r')\n",
    "plt.ylabel('Accuracy')\n",
    "plt.title('Accuracy vs. r')\n",
    "\n",
    "# Display the plot\n",
    "plt.show()"
   ]
  },
  {
   "cell_type": "code",
   "execution_count": null,
   "id": "280545b2",
   "metadata": {},
   "outputs": [],
   "source": []
  },
  {
   "cell_type": "code",
   "execution_count": null,
   "id": "a45e5be0",
   "metadata": {},
   "outputs": [],
   "source": []
  }
 ],
 "metadata": {
  "kernelspec": {
   "display_name": "Python 3 (ipykernel)",
   "language": "python",
   "name": "python3"
  },
  "language_info": {
   "codemirror_mode": {
    "name": "ipython",
    "version": 3
   },
   "file_extension": ".py",
   "mimetype": "text/x-python",
   "name": "python",
   "nbconvert_exporter": "python",
   "pygments_lexer": "ipython3",
   "version": "3.10.9"
  }
 },
 "nbformat": 4,
 "nbformat_minor": 5
}
